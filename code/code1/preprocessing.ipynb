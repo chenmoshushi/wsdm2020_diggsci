{
 "cells": [
  {
   "cell_type": "code",
   "execution_count": null,
   "metadata": {
    "scrolled": true
   },
   "outputs": [],
   "source": [
    "import pandas as pd\n",
    "import numpy as np\n",
    "import re\n",
    "import time\n",
    "from tqdm import tqdm\n",
    "from util import pre_process\n",
    "import pickle\n",
    "# tqdm.pandas()\n",
    "%matplotlib inline\n",
    "from nltk import word_tokenize,pos_tag\n",
    "\n",
    "import warnings\n",
    "warnings.simplefilter(action='ignore', category=FutureWarning)\n",
    "warnings.filterwarnings('ignore')\n",
    "\n",
    "path='./data/'"
   ]
  },
  {
   "cell_type": "code",
   "execution_count": null,
   "metadata": {},
   "outputs": [],
   "source": [
    "train=pd.read_csv(path+'train_release.csv')\n",
    "# test=pd.read_csv(path+'validation.csv')\n",
    "test=pd.read_csv(path+'test.csv')\n",
    "canditate=pd.read_csv(path+'candidate_paper_for_wsdm2020.csv')\n",
    "train=train[~train['description_id'].isnull()]"
   ]
  },
  {
   "cell_type": "code",
   "execution_count": null,
   "metadata": {},
   "outputs": [],
   "source": [
    "test.shape, test[['description_id']].drop_duplicates().shape"
   ]
  },
  {
   "cell_type": "code",
   "execution_count": null,
   "metadata": {},
   "outputs": [],
   "source": [
    "# '获取关键句函数'\n",
    "def digest(text):\n",
    "    backup = text[:]\n",
    "    text = text.replace('al.', '').split('. ')\n",
    "    t=''\n",
    "    pre_text=[]\n",
    "    len_text=len(text)-1\n",
    "    add=True\n",
    "    pre=''\n",
    "    while len_text>=0:\n",
    "        index=text[len_text]\n",
    "        index+=pre\n",
    "        if len(index.split(' '))<=3 :\n",
    "            add=False\n",
    "            pre=index+pre\n",
    "        else:\n",
    "            add=True\n",
    "            pre=''\n",
    "        if add:\n",
    "            pre_text.append(index)\n",
    "        len_text-=1\n",
    "    if len(pre_text)==0:\n",
    "        pre_text=text\n",
    "    pre_text.reverse()\n",
    "    for index in pre_text:\n",
    "        if index.find('[**##**]') != -1:\n",
    "            index = re.sub(r'[\\[|,]+\\*\\*\\#\\#\\*\\*[\\]|,]+','',index)\n",
    "            index+='. '\n",
    "            t+=index\n",
    "    return t\n",
    "\n",
    "train['key_text']=train['description_text'].apply(lambda x:digest(x))\n",
    "test['key_text']=test['description_text'].apply(lambda x:digest(x))"
   ]
  },
  {
   "cell_type": "code",
   "execution_count": null,
   "metadata": {},
   "outputs": [],
   "source": [
    "train['key_text_pre']=train['key_text'].apply(lambda x:' '.join(pre_process(x)))"
   ]
  },
  {
   "cell_type": "code",
   "execution_count": null,
   "metadata": {},
   "outputs": [],
   "source": [
    "test['key_text_pre']=test['key_text'].apply(lambda x:' '.join(pre_process(x)))"
   ]
  },
  {
   "cell_type": "code",
   "execution_count": null,
   "metadata": {},
   "outputs": [],
   "source": [
    "train.to_csv(path+'train_pre2.csv',index=False)\n",
    "# test.to_csv(path+'test_pre2.csv',index=False)\n",
    "test.to_csv(path+'stage2_test_pre.csv',index=False)"
   ]
  },
  {
   "cell_type": "code",
   "execution_count": null,
   "metadata": {},
   "outputs": [],
   "source": [
    "canditate['title_pro']=canditate['title'].apply(lambda x:' '.join(pre_process(x)))"
   ]
  },
  {
   "cell_type": "code",
   "execution_count": null,
   "metadata": {},
   "outputs": [],
   "source": [
    "canditate['abstract_pre']=canditate['abstract'].apply(lambda x:' '.join(pre_process(x) if str(x)!='nan' else 'none'))"
   ]
  },
  {
   "cell_type": "code",
   "execution_count": null,
   "metadata": {},
   "outputs": [],
   "source": [
    "canditate.to_csv(path+'candidate_paper_pre.csv',index=False)"
   ]
  }
 ],
 "metadata": {
  "kernelspec": {
   "display_name": "Python 3",
   "language": "python",
   "name": "python3"
  },
  "language_info": {
   "codemirror_mode": {
    "name": "ipython",
    "version": 3
   },
   "file_extension": ".py",
   "mimetype": "text/x-python",
   "name": "python",
   "nbconvert_exporter": "python",
   "pygments_lexer": "ipython3",
   "version": "3.6.7"
  },
  "toc": {
   "base_numbering": 1,
   "nav_menu": {},
   "number_sections": true,
   "sideBar": true,
   "skip_h1_title": false,
   "title_cell": "Table of Contents",
   "title_sidebar": "Contents",
   "toc_cell": false,
   "toc_position": {
    "height": "calc(100% - 180px)",
    "left": "10px",
    "top": "150px",
    "width": "384px"
   },
   "toc_section_display": true,
   "toc_window_display": true
  }
 },
 "nbformat": 4,
 "nbformat_minor": 2
}
