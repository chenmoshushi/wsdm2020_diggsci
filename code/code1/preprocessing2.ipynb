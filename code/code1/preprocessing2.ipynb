{
 "cells": [
  {
   "cell_type": "markdown",
   "metadata": {},
   "source": [
    "## 使用全部候选paper"
   ]
  },
  {
   "cell_type": "code",
   "execution_count": null,
   "metadata": {},
   "outputs": [],
   "source": [
    "import pandas as pd\n",
    "from  tqdm import  tqdm\n",
    "from gensim import corpora,similarities,models\n",
    "import pandas as pd\n",
    "import pickle\n",
    "from util import pre_process\n",
    "import os\n",
    "\n",
    "\n",
    "#################读取候选论文\n",
    "papers = pd.read_csv('./data/candidate_paper_for_wsdm2020.csv')\n",
    "papers=papers[papers['paper_id'].notnull()]\n",
    "print(papers.shape)\n",
    "#只要no-content的论文\n",
    "# papers=papers[papers['journal']=='no-content']\n",
    "print(papers.shape)\n",
    "\n",
    "#填充空值\n",
    "papers['abstract'] = papers['abstract'].fillna('none')\n",
    "papers['title'] = papers['title'].fillna('none')\n",
    "papers['keywords'] = papers['keywords'].fillna('none')\n",
    "\n",
    "\n",
    "#内容和id\n",
    "train=papers['title'].values+' '+papers['abstract'].values+' '+papers['keywords'].apply(lambda x: x.replace(';',' ')).values\n",
    "train_item_id=list(papers['paper_id'].values)\n",
    "\n",
    "#保存论文的id\n",
    "with open('paper_id2.pkl', 'wb') as fw:\n",
    "    pickle.dump(train_item_id,fw)\n",
    "\n",
    "\n",
    "#保存预处理后的论文内容\n",
    "if not os.path.exists('train_content2.pkl'):\n",
    "    with open('train_content2.pkl','wb') as fw:\n",
    "        train = list(map(lambda x: pre_process(x), tqdm(train)))\n",
    "        pickle.dump(train,fw)\n",
    "else:\n",
    "    with open('train_content2.pkl','rb') as fr:\n",
    "        train = pickle.load(fr)\n",
    "\n",
    "\n",
    "dictionary = corpora.Dictionary(train)\n",
    "corpus = [dictionary.doc2bow(text) for text in train]\n",
    "\n",
    "# corpus是一个返回bow向量的迭代器。下面代码将完成对corpus中出现的每一个特征的IDF值的统计工作\n",
    "tfidf_model = models.TfidfModel(corpus, dictionary=dictionary)\n",
    "corpus_tfidf = tfidf_model[corpus]\n",
    "\n",
    "dictionary.save('train_dictionary2.dict')  # 保存生成的词典\n",
    "tfidf_model.save('train_tfidf2.model')\n",
    "corpora.MmCorpus.serialize('train_corpuse2.mm', corpus)\n",
    "featurenum = len(dictionary.token2id.keys())  # 通过token2id得到特征数\n",
    "# 稀疏矩阵相似度，从而建立索引,我们用待检索的文档向量初始化一个相似度计算的对象\n",
    "index = similarities.SparseMatrixSimilarity(corpus_tfidf, num_features=featurenum)    #这是文档的index\n",
    "index.save('train_index2.index')\n"
   ]
  }
 ],
 "metadata": {
  "kernelspec": {
   "display_name": "Python 3",
   "language": "python",
   "name": "python3"
  },
  "language_info": {
   "codemirror_mode": {
    "name": "ipython",
    "version": 3
   },
   "file_extension": ".py",
   "mimetype": "text/x-python",
   "name": "python",
   "nbconvert_exporter": "python",
   "pygments_lexer": "ipython3",
   "version": "3.6.7"
  }
 },
 "nbformat": 4,
 "nbformat_minor": 2
}
