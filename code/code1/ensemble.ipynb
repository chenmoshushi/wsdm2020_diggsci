{
 "cells": [
  {
   "cell_type": "code",
   "execution_count": null,
   "metadata": {},
   "outputs": [],
   "source": [
    "import pandas as pd\n",
    "import numpy as np"
   ]
  },
  {
   "cell_type": "code",
   "execution_count": null,
   "metadata": {
    "scrolled": true
   },
   "outputs": [],
   "source": [
    "test = pd.read_csv('./new_data/stage2_test_data3_bm2580_tfidf20_8.csv')"
   ]
  },
  {
   "cell_type": "code",
   "execution_count": null,
   "metadata": {},
   "outputs": [],
   "source": [
    "test[1] = (pd.read_csv('tmp/biobert6_fold0.csv')['1'] \n",
    "                + pd.read_csv('tmp/biobert6_fold1.csv')['1'] \n",
    "                + pd.read_csv('tmp/biobert6_fold2.csv')['1'] \n",
    "                + pd.read_csv('tmp/biobert6_fold3.csv')['1'] \n",
    "                + pd.read_csv('tmp/biobert6_fold4.csv')['1']) / 5"
   ]
  },
  {
   "cell_type": "code",
   "execution_count": null,
   "metadata": {},
   "outputs": [],
   "source": [
    "# biobert_v10_pubmed_pmc\n",
    "test[1] = (pd.read_csv('队友结果/xiong/biobert_v10_pubmed_pmc/yuce_biobert_v10_pubmed_pmc_5single_fold0.csv')['1'] \n",
    "                 + pd.read_csv('队友结果/xiong/biobert_v10_pubmed_pmc/yuce_biobert_v10_pubmed_pmc_5single_fold1.csv')['1'] \n",
    "                 + pd.read_csv('队友结果/xiong/biobert_v10_pubmed_pmc/yuce_biobert_v10_pubmed_pmc_5single_fold2.csv')['1'] \n",
    "                 + pd.read_csv('队友结果/xiong/biobert_v10_pubmed_pmc/yuce_biobert_v10_pubmed_pmc_5single_fold3.csv')['1'] \n",
    "                 + pd.read_csv('队友结果/xiong/biobert_v10_pubmed_pmc/yuce_biobert_v10_pubmed_pmc_5single_fold4.csv')['1']) / 5"
   ]
  },
  {
   "cell_type": "code",
   "execution_count": null,
   "metadata": {},
   "outputs": [],
   "source": [
    "# biobert_dish\n",
    "test[1] = (pd.read_csv('队友结果/xiong/biobert_dish/yuce_biobert_dish_5single_fold0.csv')['1'] \n",
    "                 + pd.read_csv('队友结果/xiong/biobert_dish/yuce_biobert_dish_5single_fold1.csv')['1'] \n",
    "                 + pd.read_csv('队友结果/xiong/biobert_dish/yuce_biobert_dish_5single_fold2.csv')['1'] \n",
    "                 + pd.read_csv('队友结果/xiong/biobert_dish/yuce_biobert_dish_5single_fold3.csv')['1'] \n",
    "                 + pd.read_csv('队友结果/xiong/biobert_dish/yuce_biobert_dish_5single_fold4.csv')['1']) / 5"
   ]
  },
  {
   "cell_type": "code",
   "execution_count": null,
   "metadata": {},
   "outputs": [],
   "source": [
    "test[1] = (pd.read_csv('队友结果/xiaohao/sub0115_biobertfold0.csv')['1'] \n",
    "                 + pd.read_csv('队友结果/xiaohao/xxh_biobert_single_fold1.csv')['1'] \n",
    "                 + pd.read_csv('队友结果/xiaohao/xxh_biobert_single_fold2.csv')['1'] \n",
    "                 + pd.read_csv('队友结果/xiaohao/xxh_biobert_single_fold4.csv')['1'] ) / 4"
   ]
  },
  {
   "cell_type": "code",
   "execution_count": null,
   "metadata": {},
   "outputs": [],
   "source": [
    "# biobert_v10_pubmed\n",
    "test[1] = (pd.read_csv('队友结果/xiong/biobert_v10_pubmed/yuce_biobert_v10_pubmed_5single_fold0.csv')['1'] \n",
    "                 + pd.read_csv('队友结果/xiong/biobert_v10_pubmed/yuce_biobert_v10_pubmed_5single_fold1.csv')['1'] \n",
    "                 + pd.read_csv('队友结果/xiong/biobert_v10_pubmed/yuce_biobert_v10_pubmed_5single_fold2.csv')['1'] \n",
    "                 + pd.read_csv('队友结果/xiong/biobert_v10_pubmed/yuce_biobert_v10_pubmed_5single_fold3.csv')['1'] \n",
    "                 + pd.read_csv('队友结果/xiong/biobert_v10_pubmed/yuce_biobert_v10_pubmed_5single_fold4.csv')['1']) / 5"
   ]
  },
  {
   "cell_type": "code",
   "execution_count": null,
   "metadata": {},
   "outputs": [],
   "source": [
    "# scibert\n",
    "test[1] = (pd.read_csv('队友结果/xiong/scibert/yuce_scibert_5single_fold0.csv')['1'] \n",
    "                 + pd.read_csv('队友结果/xiong/scibert/yuce_scibert_5single_fold1.csv')['1'] \n",
    "                 + pd.read_csv('队友结果/xiong/scibert/yuce_scibert_5single_fold2.csv')['1'] \n",
    "                 + pd.read_csv('队友结果/xiong/scibert/yuce_scibert_5single_fold3.csv')['1'] \n",
    "                 + pd.read_csv('队友结果/xiong/scibert/yuce_scibert_5single_fold4.csv')['1']) / 5"
   ]
  },
  {
   "cell_type": "code",
   "execution_count": null,
   "metadata": {},
   "outputs": [],
   "source": [
    "# biobert_v10_pmc\n",
    "test[1] = (pd.read_csv('队友结果/xiong/biobert_v10_pmc/yuce_biobert_v10_pmc_5single_fold0.csv')['1'] \n",
    "                 + pd.read_csv('队友结果/xiong/biobert_v10_pmc/yuce_biobert_v10_pmc_5single_fold1.csv')['1'] \n",
    "                 + pd.read_csv('队友结果/xiong/biobert_v10_pmc/yuce_biobert_v10_pmc_5single_fold2.csv')['1'] \n",
    "                 + pd.read_csv('队友结果/xiong/biobert_v10_pmc/yuce_biobert_v10_pmc_5single_fold3.csv')['1'] \n",
    "                 + pd.read_csv('队友结果/xiong/biobert_v10_pmc/yuce_biobert_v10_pmc_5single_fold4.csv')['1']) / 5"
   ]
  },
  {
   "cell_type": "code",
   "execution_count": null,
   "metadata": {},
   "outputs": [],
   "source": [
    "# biobert_v11_pubmed\n",
    "test[1] = (pd.read_csv('队友结果/xiong/biobert_v11_pubmed/yuce_biobert_v11_pubmed_5single_fold0.csv')['1'] \n",
    "                 + pd.read_csv('队友结果/xiong/biobert_v11_pubmed/yuce_biobert_v11_pubmed_5single_fold1.csv')['1'] \n",
    "                 + pd.read_csv('队友结果/xiong/biobert_v11_pubmed/yuce_biobert_v11_pubmed_5single_fold2.csv')['1'] \n",
    "                 + pd.read_csv('队友结果/xiong/biobert_v11_pubmed/yuce_biobert_v11_pubmed_5single_fold3.csv')['1'] \n",
    "                 + pd.read_csv('队友结果/xiong/biobert_v11_pubmed/yuce_biobert_v11_pubmed_5single_fold4.csv')['1']) / 5"
   ]
  },
  {
   "cell_type": "code",
   "execution_count": null,
   "metadata": {},
   "outputs": [],
   "source": [
    "# biobert_v11_pubmed_radam\n",
    "test[1] = (pd.read_csv('队友结果/xiong/biobert_v11_pubmed_radam/yuce_biobert_v11_pubmed_radam_5single_fold0.csv')['1'] \n",
    "                 + pd.read_csv('队友结果/xiong/biobert_v11_pubmed_radam/yuce_biobert_v11_pubmed_radam_5single_fold1.csv')['1'] \n",
    "                 + pd.read_csv('队友结果/xiong/biobert_v11_pubmed_radam/yuce_biobert_v11_pubmed_radam_5single_fold2.csv')['1'] \n",
    "                 + pd.read_csv('队友结果/xiong/biobert_v11_pubmed_radam/yuce_biobert_v11_pubmed_radam_5single_fold3.csv')['1'] \n",
    "                 + pd.read_csv('队友结果/xiong/biobert_v11_pubmed_radam/yuce_biobert_v11_pubmed_radam_5single_fold4.csv')['1']) / 5"
   ]
  },
  {
   "cell_type": "code",
   "execution_count": null,
   "metadata": {},
   "outputs": [],
   "source": [
    "test.corr()"
   ]
  },
  {
   "cell_type": "code",
   "execution_count": null,
   "metadata": {},
   "outputs": [],
   "source": [
    "test['pred'].mean(), test['pred2'].mean(), test['pred3'].mean(), test['pred4'].mean(), test['pred5'].mean(), test['pred6'].mean(), test['pred7'].mean(), test['pred8'].mean(), test['pred9'].mean()"
   ]
  },
  {
   "cell_type": "code",
   "execution_count": null,
   "metadata": {
    "scrolled": true
   },
   "outputs": [],
   "source": [
    "# 0.406965260834205\n",
    "test['p1'] = 0.5 * (0.15 * test['pred'] \n",
    "                + 0.3 * test['pred2'] \n",
    "                + 0.1 * test['pred3'] \n",
    "                + 0.1 * test['pred4'] \n",
    "                + 0.15 * test['pred5'] \n",
    "                + 0.1 * test['pred6'] \n",
    "                + 0.1 * test['pred7']) + 0.5 * (0.5 * test['pred8'] + 0.5 * test['pred9']) \n"
   ]
  },
  {
   "cell_type": "code",
   "execution_count": null,
   "metadata": {},
   "outputs": [],
   "source": []
  },
  {
   "cell_type": "code",
   "execution_count": null,
   "metadata": {},
   "outputs": [],
   "source": [
    "test2 = pd.read_csv('./new_data/stage2_test_data3_bm2590_tfidf20_10.csv')"
   ]
  },
  {
   "cell_type": "code",
   "execution_count": null,
   "metadata": {},
   "outputs": [],
   "source": [
    "test2['pred'] = (pd.read_csv('tmp/biobert6_fold0_dataset2.csv')['1'] \n",
    "                + pd.read_csv('tmp/biobert6_fold1_dataset2.csv')['1'] \n",
    "                + pd.read_csv('tmp/biobert6_fold2_dataset2.csv')['1'] \n",
    "                + pd.read_csv('tmp/biobert6_fold3_dataset2.csv')['1'] \n",
    "                + pd.read_csv('tmp/biobert6_fold4_dataset2.csv')['1']) / 5"
   ]
  },
  {
   "cell_type": "code",
   "execution_count": null,
   "metadata": {},
   "outputs": [],
   "source": [
    "test2['pred2'] = (pd.read_csv('队友结果/xiong/biobert_v10_pubmed_pmc_buchong/yuce_biobert_v10_pubmed_pmc_shengyu_5single_fold0.csv')['1'] \n",
    "                 + pd.read_csv('队友结果/xiong/biobert_v10_pubmed_pmc_buchong/yuce_biobert_v10_pubmed_pmc_shengyu_5single_fold1.csv')['1'] \n",
    "                 + pd.read_csv('队友结果/xiong/biobert_v10_pubmed_pmc_buchong/yuce_biobert_v10_pubmed_pmc_shengyu_5single_fold2.csv')['1'] \n",
    "                 + pd.read_csv('队友结果/xiong/biobert_v10_pubmed_pmc_buchong/yuce_biobert_v10_pubmed_pmc_shengyu_5single_fold3.csv')['1'] \n",
    "                 + pd.read_csv('队友结果/xiong/biobert_v10_pubmed_pmc_buchong/yuce_biobert_v10_pubmed_pmc_shengyu_5single_fold4.csv')['1']) / 5"
   ]
  },
  {
   "cell_type": "code",
   "execution_count": null,
   "metadata": {},
   "outputs": [],
   "source": [
    "# test2['pred3'] = None"
   ]
  },
  {
   "cell_type": "code",
   "execution_count": null,
   "metadata": {},
   "outputs": [],
   "source": [
    "test2['pred4'] = (pd.read_csv('队友结果/xiaohao/xxh_biobert_single_newrecall_fold0.csv')['1'] \n",
    "                 + pd.read_csv('队友结果/xiaohao/xxh_biobert_single_newrecall_fold1.csv')['1']\n",
    "                 + pd.read_csv('队友结果/xiaohao/xxh_biobert_single_newrecall_fold2.csv')['1'] \n",
    "                 + pd.read_csv('队友结果/xiaohao/xxh_biobert_single_newrecall_fold3.csv')['1'] \n",
    "                 + pd.read_csv('队友结果/xiaohao/xxh_biobert_single_newrecall_fold4.csv')['1'] ) / 5"
   ]
  },
  {
   "cell_type": "code",
   "execution_count": null,
   "metadata": {},
   "outputs": [],
   "source": [
    "# biobert_v10_pubmed_buchong\n",
    "test2['pred5'] = (pd.read_csv('队友结果/xiong/biobert_v10_pubmed_buchong/yuce_biobert_v10_pubmed_shengyu_5single_fold0.csv')['1'] \n",
    "                 + pd.read_csv('队友结果/xiong/biobert_v10_pubmed_buchong/yuce_biobert_v10_pubmed_shengyu_5single_fold1.csv')['1'] \n",
    "                 + pd.read_csv('队友结果/xiong/biobert_v10_pubmed_buchong/yuce_biobert_v10_pubmed_shengyu_5single_fold2.csv')['1'] \n",
    "                 + pd.read_csv('队友结果/xiong/biobert_v10_pubmed_buchong/yuce_biobert_v10_pubmed_shengyu_5single_fold3.csv')['1'] \n",
    "                 + pd.read_csv('队友结果/xiong/biobert_v10_pubmed_buchong/yuce_biobert_v10_pubmed_shengyu_5single_fold4.csv')['1']) / 5"
   ]
  },
  {
   "cell_type": "code",
   "execution_count": null,
   "metadata": {},
   "outputs": [],
   "source": [
    "# scibert\n",
    "# test2['pred6'] = None"
   ]
  },
  {
   "cell_type": "code",
   "execution_count": null,
   "metadata": {},
   "outputs": [],
   "source": [
    "# biobert_v10_pmc_buchong\n",
    "test2['pred7'] = (pd.read_csv('队友结果/xiong/biobert_v10_pmc_buchong/yuce_biobert_v10_pmc_shengyu_5single_fold0.csv')['1'] \n",
    "                 + pd.read_csv('队友结果/xiong/biobert_v10_pmc_buchong/yuce_biobert_v10_pmc_shengyu_5single_fold1.csv')['1'] \n",
    "                 + pd.read_csv('队友结果/xiong/biobert_v10_pmc_buchong/yuce_biobert_v10_pmc_shengyu_5single_fold2.csv')['1'] \n",
    "                 + pd.read_csv('队友结果/xiong/biobert_v10_pmc_buchong/yuce_biobert_v10_pmc_shengyu_5single_fold3.csv')['1'] \n",
    "                 + pd.read_csv('队友结果/xiong/biobert_v10_pmc_buchong/yuce_biobert_v10_pmc_shengyu_5single_fold4.csv')['1']) / 5"
   ]
  },
  {
   "cell_type": "code",
   "execution_count": null,
   "metadata": {},
   "outputs": [],
   "source": [
    "# biobert_v11_pubmed\n",
    "test2['pred8'] = (pd.read_csv('队友结果/xiong/biobert_v11_pubmed_buchong/yuce_biobert_v11_pubmed_shengyu_5single_fold0.csv')['1'] \n",
    "                 + pd.read_csv('队友结果/xiong/biobert_v11_pubmed_buchong/yuce_biobert_v11_pubmed_shengyu_5single_fold1.csv')['1'] \n",
    "                 + pd.read_csv('队友结果/xiong/biobert_v11_pubmed_buchong/yuce_biobert_v11_pubmed_shengyu_5single_fold2.csv')['1'] \n",
    "                 + pd.read_csv('队友结果/xiong/biobert_v11_pubmed_buchong/yuce_biobert_v11_pubmed_shengyu_5single_fold3.csv')['1'] \n",
    "                 + pd.read_csv('队友结果/xiong/biobert_v11_pubmed_buchong/yuce_biobert_v11_pubmed_shengyu_5single_fold4.csv')['1']) / 5"
   ]
  },
  {
   "cell_type": "code",
   "execution_count": null,
   "metadata": {},
   "outputs": [],
   "source": [
    "# biobert_v11_pubmed_radam_buchong\n",
    "test2['pred9'] = (pd.read_csv('队友结果/xiong/biobert_v11_pubmed_radam_buchong/yuce_biobert_v11_pubmed_radam_shengyu_5single_fold0.csv')['1'] \n",
    "                 + pd.read_csv('队友结果/xiong/biobert_v11_pubmed_radam_buchong/yuce_biobert_v11_pubmed_radam_shengyu_5single_fold1.csv')['1'] \n",
    "                 + pd.read_csv('队友结果/xiong/biobert_v11_pubmed_radam_buchong/yuce_biobert_v11_pubmed_radam_shengyu_5single_fold2.csv')['1'] \n",
    "                 + pd.read_csv('队友结果/xiong/biobert_v11_pubmed_radam_buchong/yuce_biobert_v11_pubmed_radam_shengyu_5single_fold3.csv')['1'] \n",
    "                 + pd.read_csv('队友结果/xiong/biobert_v11_pubmed_radam_buchong/yuce_biobert_v11_pubmed_radam_shengyu_5single_fold4.csv')['1']) / 5"
   ]
  },
  {
   "cell_type": "code",
   "execution_count": null,
   "metadata": {},
   "outputs": [],
   "source": [
    "test2[1] = 0.5 * (0.2 * test2['pred'] \n",
    "                + 0.3 * test2['pred2'] \n",
    "                + 0.1 * test2['pred4'] \n",
    "                + 0.2 * test2['pred5'] \n",
    "                + 0.2 * test2['pred7']) + 0.5 * (0.5 * test2['pred8'] + 0.5 * test2['pred9']) "
   ]
  },
  {
   "cell_type": "code",
   "execution_count": null,
   "metadata": {},
   "outputs": [],
   "source": [
    "test2[1].mean()"
   ]
  },
  {
   "cell_type": "code",
   "execution_count": null,
   "metadata": {},
   "outputs": [],
   "source": [
    "test = pd.concat([test, test2]).reset_index(drop=True)"
   ]
  },
  {
   "cell_type": "code",
   "execution_count": null,
   "metadata": {},
   "outputs": [],
   "source": [
    "canditate = pd.read_csv('./data/candidate_paper_for_wsdm2020.csv')\n",
    "canditate.rename(columns={'paper_id': 'pid'}, inplace=True)\n",
    "test = pd.merge(test, canditate[['pid', 'journal']], on='pid', how='left')\n",
    "\n",
    "test = test[test['journal']!='no-content']\n",
    "\n",
    "test = test.sort_values(1, ascending=False).reset_index(drop=True)\n",
    "\n",
    "tmp = test.groupby('description_id')['pid'].apply(lambda x: list(x)).reset_index()\n",
    "\n",
    "tmp['paper_id1'] = tmp['pid'].apply(lambda x: x[0])\n",
    "tmp['paper_id2'] = tmp['pid'].apply(lambda x: x[1])\n",
    "tmp['paper_id3'] = tmp['pid'].apply(lambda x: x[2])\n",
    "del tmp['pid']\n",
    "\n",
    "test=pd.read_csv('./data/test.csv')\n",
    "test = pd.merge(test, tmp, on='description_id', how='left')\n",
    "test = test.fillna('1')\n",
    "test[['description_id', 'paper_id1', 'paper_id2', 'paper_id3']].to_csv('submission/pred9.csv', index=False, header=None)"
   ]
  }
 ],
 "metadata": {
  "kernelspec": {
   "display_name": "Python 3",
   "language": "python",
   "name": "python3"
  },
  "language_info": {
   "codemirror_mode": {
    "name": "ipython",
    "version": 3
   },
   "file_extension": ".py",
   "mimetype": "text/x-python",
   "name": "python",
   "nbconvert_exporter": "python",
   "pygments_lexer": "ipython3",
   "version": "3.6.7"
  }
 },
 "nbformat": 4,
 "nbformat_minor": 2
}
